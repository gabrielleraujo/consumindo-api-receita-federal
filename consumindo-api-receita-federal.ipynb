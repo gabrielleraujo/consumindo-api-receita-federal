{
 "cells": [
  {
   "cell_type": "markdown",
   "metadata": {},
   "source": [
    "CONSUMINDO A API DA RECEITA FEDERAL (API PÚBLICA)"
   ]
  },
  {
   "cell_type": "markdown",
   "metadata": {},
   "source": [
    "Link da API: https://receitaws.com.br/api"
   ]
  },
  {
   "cell_type": "code",
   "execution_count": 1,
   "metadata": {},
   "outputs": [],
   "source": [
    "# Importando bibliotecas.\n",
    "import requests\n",
    "import json\n",
    "import http.client\n",
    "from pandas import DataFrame\n",
    "import pandas as pd"
   ]
  },
  {
   "cell_type": "code",
   "execution_count": 2,
   "metadata": {},
   "outputs": [],
   "source": [
    "cnpj = 29138278000101  # CNPJ do Município de Nova Iguaçu.\n",
    "\n",
    "# Fazendo a requisição dos dados e atribuindo em response.\n",
    "response = requests.get(\"https://www.receitaws.com.br/v1/cnpj/{}\".format(cnpj))"
   ]
  },
  {
   "cell_type": "code",
   "execution_count": 3,
   "metadata": {},
   "outputs": [
    {
     "name": "stdout",
     "output_type": "stream",
     "text": [
      "200\n"
     ]
    }
   ],
   "source": [
    "print(response.status_code) # Diz o erro se for diferente de 200, se 200 a requisição foi bem sucedida.\n",
    "data_info = json.loads(response.content.decode('utf-8'))"
   ]
  },
  {
   "cell_type": "code",
   "execution_count": 4,
   "metadata": {},
   "outputs": [
    {
     "data": {
      "text/plain": [
       "{'atividade_principal': [{'text': 'Administração pública em geral',\n",
       "   'code': '84.11-6-00'}],\n",
       " 'data_situacao': '03/11/2005',\n",
       " 'tipo': 'MATRIZ',\n",
       " 'nome': 'MUNICIPIO DE NOVA IGUACU',\n",
       " 'efr': 'MUNICÍPIO DE NOVA IGUACU',\n",
       " 'uf': 'RJ',\n",
       " 'telefone': '(21) 2667-3362/ (21) 2667-2251',\n",
       " 'email': 'ouvidoria@novaiguacu.com.br',\n",
       " 'situacao': 'ATIVA',\n",
       " 'bairro': 'CENTRO',\n",
       " 'logradouro': 'R DR. ATHAIDE PIMENTA DE MORAES',\n",
       " 'numero': '528',\n",
       " 'cep': '26.215-000',\n",
       " 'municipio': 'NOVA IGUACU',\n",
       " 'porte': 'DEMAIS',\n",
       " 'abertura': '30/12/1974',\n",
       " 'natureza_juridica': '124-4 - Município',\n",
       " 'fantasia': 'NOVA IGUACU PREFEITURA GABINETE DO PREFEITO',\n",
       " 'cnpj': '29.138.278/0001-01',\n",
       " 'ultima_atualizacao': '2020-12-14T19:23:27.576Z',\n",
       " 'status': 'OK',\n",
       " 'complemento': '',\n",
       " 'motivo_situacao': '',\n",
       " 'situacao_especial': '',\n",
       " 'data_situacao_especial': '',\n",
       " 'atividades_secundarias': [{'code': '00.00-0-00', 'text': 'Não informada'}],\n",
       " 'capital_social': '0.00',\n",
       " 'qsa': [],\n",
       " 'extra': {},\n",
       " 'billing': {'free': True, 'database': True}}"
      ]
     },
     "execution_count": 4,
     "metadata": {},
     "output_type": "execute_result"
    }
   ],
   "source": [
    "data_info"
   ]
  },
  {
   "cell_type": "code",
   "execution_count": 5,
   "metadata": {},
   "outputs": [],
   "source": [
    "identificador = {'cnpj': data_info[\"cnpj\"]}\n",
    "atividade_principal = data_info[\"atividade_principal\"][0]\n",
    "atividades_secundarias = data_info[\"atividades_secundarias\"][0]"
   ]
  },
  {
   "cell_type": "code",
   "execution_count": 7,
   "metadata": {},
   "outputs": [
    {
     "data": {
      "text/plain": [
       "[{'cnpj': '29.138.278/0001-01'},\n",
       " {'text': 'Administração pública em geral', 'code': '84.11-6-00'},\n",
       " {'code': '00.00-0-00', 'text': 'Não informada'}]"
      ]
     },
     "execution_count": 7,
     "metadata": {},
     "output_type": "execute_result"
    }
   ],
   "source": [
    "list([identificador, atividade_principal, atividades_secundarias])"
   ]
  },
  {
   "cell_type": "markdown",
   "metadata": {},
   "source": [
    "Criando uma lista com todos os valores do data_info que contêm alguns valores que estão dentro de dicionário e lista, dessa forama quando tentamos criar um DataFrame de data_info não conseguimos por causa desses valores dentro de dic e list. Então resolvi criar uma lista em que colocarei todos esses elementos de que dão problema para criar um DataFrame só com eles."
   ]
  },
  {
   "cell_type": "code",
   "execution_count": 8,
   "metadata": {},
   "outputs": [
    {
     "data": {
      "text/plain": [
       "[{'cnpj': '29.138.278/0001-01'},\n",
       " {'text': 'Administração pública em geral', 'code': '84.11-6-00'},\n",
       " {'code': '00.00-0-00', 'text': 'Não informada'}]"
      ]
     },
     "execution_count": 8,
     "metadata": {},
     "output_type": "execute_result"
    }
   ],
   "source": [
    "lista_atividades = list([identificador, atividade_principal, atividades_secundarias])\n",
    "lista_atividades"
   ]
  },
  {
   "cell_type": "markdown",
   "metadata": {},
   "source": [
    "Criando um DataFrame com os valores da lista.\n",
    "obs: Valores NaN são valores que realmente não continham na API, valores inesistentes mesmo."
   ]
  },
  {
   "cell_type": "code",
   "execution_count": 9,
   "metadata": {},
   "outputs": [
    {
     "data": {
      "text/html": [
       "<div>\n",
       "<style scoped>\n",
       "    .dataframe tbody tr th:only-of-type {\n",
       "        vertical-align: middle;\n",
       "    }\n",
       "\n",
       "    .dataframe tbody tr th {\n",
       "        vertical-align: top;\n",
       "    }\n",
       "\n",
       "    .dataframe thead th {\n",
       "        text-align: right;\n",
       "    }\n",
       "</style>\n",
       "<table border=\"1\" class=\"dataframe\">\n",
       "  <thead>\n",
       "    <tr style=\"text-align: right;\">\n",
       "      <th></th>\n",
       "      <th>cnpj</th>\n",
       "      <th>text</th>\n",
       "      <th>code</th>\n",
       "    </tr>\n",
       "  </thead>\n",
       "  <tbody>\n",
       "    <tr>\n",
       "      <th>identificador</th>\n",
       "      <td>29.138.278/0001-01</td>\n",
       "      <td>NaN</td>\n",
       "      <td>NaN</td>\n",
       "    </tr>\n",
       "    <tr>\n",
       "      <th>atividade_principal</th>\n",
       "      <td>NaN</td>\n",
       "      <td>Administração pública em geral</td>\n",
       "      <td>84.11-6-00</td>\n",
       "    </tr>\n",
       "    <tr>\n",
       "      <th>atividades_secundarias</th>\n",
       "      <td>NaN</td>\n",
       "      <td>Não informada</td>\n",
       "      <td>00.00-0-00</td>\n",
       "    </tr>\n",
       "  </tbody>\n",
       "</table>\n",
       "</div>"
      ],
      "text/plain": [
       "                                      cnpj                            text  \\\n",
       "identificador           29.138.278/0001-01                             NaN   \n",
       "atividade_principal                    NaN  Administração pública em geral   \n",
       "atividades_secundarias                 NaN                   Não informada   \n",
       "\n",
       "                              code  \n",
       "identificador                  NaN  \n",
       "atividade_principal     84.11-6-00  \n",
       "atividades_secundarias  00.00-0-00  "
      ]
     },
     "execution_count": 9,
     "metadata": {},
     "output_type": "execute_result"
    }
   ],
   "source": [
    "df_atividades = DataFrame(lista_atividades, index=[\"identificador\", \"atividade_principal\", \"atividades_secundarias\"])\n",
    "df_atividades"
   ]
  },
  {
   "cell_type": "markdown",
   "metadata": {},
   "source": [
    "Deletando as variáveis que não serão mais utilizadas."
   ]
  },
  {
   "cell_type": "code",
   "execution_count": 10,
   "metadata": {},
   "outputs": [],
   "source": [
    "del atividade_principal\n",
    "del atividades_secundarias\n",
    "del identificador"
   ]
  },
  {
   "cell_type": "markdown",
   "metadata": {},
   "source": [
    "Excluindo as chaves que já estão no DataFrame criado acima."
   ]
  },
  {
   "cell_type": "code",
   "execution_count": 11,
   "metadata": {},
   "outputs": [],
   "source": [
    "copy_data_info = data_info"
   ]
  },
  {
   "cell_type": "code",
   "execution_count": 12,
   "metadata": {},
   "outputs": [
    {
     "data": {
      "text/plain": [
       "{}"
      ]
     },
     "execution_count": 12,
     "metadata": {},
     "output_type": "execute_result"
    }
   ],
   "source": [
    "copy_data_info.pop(\"atividade_principal\")\n",
    "copy_data_info.pop(\"atividades_secundarias\")\n",
    "copy_data_info.pop(\"billing\") # Todos são True.\n",
    "copy_data_info.pop(\"qsa\") # Array vazio.\n",
    "copy_data_info.pop(\"extra\") # Dic vazio."
   ]
  },
  {
   "cell_type": "code",
   "execution_count": 13,
   "metadata": {},
   "outputs": [
    {
     "data": {
      "text/plain": [
       "{'data_situacao': '03/11/2005',\n",
       " 'tipo': 'MATRIZ',\n",
       " 'nome': 'MUNICIPIO DE NOVA IGUACU',\n",
       " 'efr': 'MUNICÍPIO DE NOVA IGUACU',\n",
       " 'uf': 'RJ',\n",
       " 'telefone': '(21) 2667-3362/ (21) 2667-2251',\n",
       " 'email': 'ouvidoria@novaiguacu.com.br',\n",
       " 'situacao': 'ATIVA',\n",
       " 'bairro': 'CENTRO',\n",
       " 'logradouro': 'R DR. ATHAIDE PIMENTA DE MORAES',\n",
       " 'numero': '528',\n",
       " 'cep': '26.215-000',\n",
       " 'municipio': 'NOVA IGUACU',\n",
       " 'porte': 'DEMAIS',\n",
       " 'abertura': '30/12/1974',\n",
       " 'natureza_juridica': '124-4 - Município',\n",
       " 'fantasia': 'NOVA IGUACU PREFEITURA GABINETE DO PREFEITO',\n",
       " 'cnpj': '29.138.278/0001-01',\n",
       " 'ultima_atualizacao': '2020-12-14T19:23:27.576Z',\n",
       " 'status': 'OK',\n",
       " 'complemento': '',\n",
       " 'motivo_situacao': '',\n",
       " 'situacao_especial': '',\n",
       " 'data_situacao_especial': '',\n",
       " 'capital_social': '0.00'}"
      ]
     },
     "execution_count": 13,
     "metadata": {},
     "output_type": "execute_result"
    }
   ],
   "source": [
    "# Imprimindo depois de excluir alguns valores.\n",
    "copy_data_info"
   ]
  },
  {
   "cell_type": "code",
   "execution_count": 14,
   "metadata": {},
   "outputs": [
    {
     "data": {
      "text/plain": [
       "dict_keys(['data_situacao', 'tipo', 'nome', 'efr', 'uf', 'telefone', 'email', 'situacao', 'bairro', 'logradouro', 'numero', 'cep', 'municipio', 'porte', 'abertura', 'natureza_juridica', 'fantasia', 'cnpj', 'ultima_atualizacao', 'status', 'complemento', 'motivo_situacao', 'situacao_especial', 'data_situacao_especial', 'capital_social'])"
      ]
     },
     "execution_count": 14,
     "metadata": {},
     "output_type": "execute_result"
    }
   ],
   "source": [
    "copy_data_info.keys()"
   ]
  },
  {
   "cell_type": "code",
   "execution_count": 15,
   "metadata": {},
   "outputs": [
    {
     "data": {
      "text/html": [
       "<div>\n",
       "<style scoped>\n",
       "    .dataframe tbody tr th:only-of-type {\n",
       "        vertical-align: middle;\n",
       "    }\n",
       "\n",
       "    .dataframe tbody tr th {\n",
       "        vertical-align: top;\n",
       "    }\n",
       "\n",
       "    .dataframe thead th {\n",
       "        text-align: right;\n",
       "    }\n",
       "</style>\n",
       "<table border=\"1\" class=\"dataframe\">\n",
       "  <thead>\n",
       "    <tr style=\"text-align: right;\">\n",
       "      <th></th>\n",
       "      <th>data_situacao</th>\n",
       "      <th>tipo</th>\n",
       "      <th>nome</th>\n",
       "      <th>efr</th>\n",
       "      <th>uf</th>\n",
       "      <th>telefone</th>\n",
       "      <th>email</th>\n",
       "      <th>situacao</th>\n",
       "      <th>bairro</th>\n",
       "      <th>logradouro</th>\n",
       "      <th>...</th>\n",
       "      <th>natureza_juridica</th>\n",
       "      <th>fantasia</th>\n",
       "      <th>cnpj</th>\n",
       "      <th>ultima_atualizacao</th>\n",
       "      <th>status</th>\n",
       "      <th>complemento</th>\n",
       "      <th>motivo_situacao</th>\n",
       "      <th>situacao_especial</th>\n",
       "      <th>data_situacao_especial</th>\n",
       "      <th>capital_social</th>\n",
       "    </tr>\n",
       "  </thead>\n",
       "  <tbody>\n",
       "    <tr>\n",
       "      <th>cnpj</th>\n",
       "      <td>03/11/2005</td>\n",
       "      <td>MATRIZ</td>\n",
       "      <td>MUNICIPIO DE NOVA IGUACU</td>\n",
       "      <td>MUNICÍPIO DE NOVA IGUACU</td>\n",
       "      <td>RJ</td>\n",
       "      <td>(21) 2667-3362/ (21) 2667-2251</td>\n",
       "      <td>ouvidoria@novaiguacu.com.br</td>\n",
       "      <td>ATIVA</td>\n",
       "      <td>CENTRO</td>\n",
       "      <td>R DR. ATHAIDE PIMENTA DE MORAES</td>\n",
       "      <td>...</td>\n",
       "      <td>124-4 - Município</td>\n",
       "      <td>NOVA IGUACU PREFEITURA GABINETE DO PREFEITO</td>\n",
       "      <td>29.138.278/0001-01</td>\n",
       "      <td>2020-12-14T19:23:27.576Z</td>\n",
       "      <td>OK</td>\n",
       "      <td></td>\n",
       "      <td></td>\n",
       "      <td></td>\n",
       "      <td></td>\n",
       "      <td>0.00</td>\n",
       "    </tr>\n",
       "  </tbody>\n",
       "</table>\n",
       "<p>1 rows × 25 columns</p>\n",
       "</div>"
      ],
      "text/plain": [
       "     data_situacao    tipo                      nome  \\\n",
       "cnpj    03/11/2005  MATRIZ  MUNICIPIO DE NOVA IGUACU   \n",
       "\n",
       "                           efr  uf                        telefone  \\\n",
       "cnpj  MUNICÍPIO DE NOVA IGUACU  RJ  (21) 2667-3362/ (21) 2667-2251   \n",
       "\n",
       "                            email situacao  bairro  \\\n",
       "cnpj  ouvidoria@novaiguacu.com.br    ATIVA  CENTRO   \n",
       "\n",
       "                           logradouro  ...  natureza_juridica  \\\n",
       "cnpj  R DR. ATHAIDE PIMENTA DE MORAES  ...  124-4 - Município   \n",
       "\n",
       "                                         fantasia                cnpj  \\\n",
       "cnpj  NOVA IGUACU PREFEITURA GABINETE DO PREFEITO  29.138.278/0001-01   \n",
       "\n",
       "            ultima_atualizacao status complemento motivo_situacao  \\\n",
       "cnpj  2020-12-14T19:23:27.576Z     OK                               \n",
       "\n",
       "     situacao_especial data_situacao_especial capital_social  \n",
       "cnpj                                                    0.00  \n",
       "\n",
       "[1 rows x 25 columns]"
      ]
     },
     "execution_count": 15,
     "metadata": {},
     "output_type": "execute_result"
    }
   ],
   "source": [
    "df_copy_data_info = DataFrame([copy_data_info], index=[\"cnpj\"])\n",
    "df_copy_data_info"
   ]
  },
  {
   "cell_type": "code",
   "execution_count": 20,
   "metadata": {},
   "outputs": [
    {
     "data": {
      "text/html": [
       "<div>\n",
       "<style scoped>\n",
       "    .dataframe tbody tr th:only-of-type {\n",
       "        vertical-align: middle;\n",
       "    }\n",
       "\n",
       "    .dataframe tbody tr th {\n",
       "        vertical-align: top;\n",
       "    }\n",
       "\n",
       "    .dataframe thead th {\n",
       "        text-align: right;\n",
       "    }\n",
       "</style>\n",
       "<table border=\"1\" class=\"dataframe\">\n",
       "  <thead>\n",
       "    <tr style=\"text-align: right;\">\n",
       "      <th></th>\n",
       "      <th>identificador</th>\n",
       "      <th>atividade_principal</th>\n",
       "      <th>atividades_secundarias</th>\n",
       "    </tr>\n",
       "  </thead>\n",
       "  <tbody>\n",
       "    <tr>\n",
       "      <th>cnpj</th>\n",
       "      <td>29.138.278/0001-01</td>\n",
       "      <td>NaN</td>\n",
       "      <td>NaN</td>\n",
       "    </tr>\n",
       "    <tr>\n",
       "      <th>text</th>\n",
       "      <td>NaN</td>\n",
       "      <td>Administração pública em geral</td>\n",
       "      <td>Não informada</td>\n",
       "    </tr>\n",
       "    <tr>\n",
       "      <th>code</th>\n",
       "      <td>NaN</td>\n",
       "      <td>84.11-6-00</td>\n",
       "      <td>00.00-0-00</td>\n",
       "    </tr>\n",
       "  </tbody>\n",
       "</table>\n",
       "</div>"
      ],
      "text/plain": [
       "           identificador             atividade_principal  \\\n",
       "cnpj  29.138.278/0001-01                             NaN   \n",
       "text                 NaN  Administração pública em geral   \n",
       "code                 NaN                      84.11-6-00   \n",
       "\n",
       "     atividades_secundarias  \n",
       "cnpj                    NaN  \n",
       "text          Não informada  \n",
       "code             00.00-0-00  "
      ]
     },
     "execution_count": 20,
     "metadata": {},
     "output_type": "execute_result"
    }
   ],
   "source": [
    "df_atividades.T"
   ]
  },
  {
   "cell_type": "code",
   "execution_count": null,
   "metadata": {},
   "outputs": [],
   "source": []
  }
 ],
 "metadata": {
  "kernelspec": {
   "display_name": "Python 3",
   "language": "python",
   "name": "python3"
  },
  "language_info": {
   "codemirror_mode": {
    "name": "ipython",
    "version": 3
   },
   "file_extension": ".py",
   "mimetype": "text/x-python",
   "name": "python",
   "nbconvert_exporter": "python",
   "pygments_lexer": "ipython3",
   "version": "3.8.5"
  }
 },
 "nbformat": 4,
 "nbformat_minor": 4
}
